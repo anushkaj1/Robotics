{
 "cells": [
  {
   "cell_type": "markdown",
   "id": "6e488609",
   "metadata": {},
   "source": [
    "### Part 1:  Pose Graph Optimization for 1D SLAM"
   ]
  },
  {
   "cell_type": "markdown",
   "id": "80fac6b6",
   "metadata": {},
   "source": [
    "A solved example for 1D SLAM which optimizes for pose variables using weighted least squares method (Gauss Newton) has been explained in the class. You can view it at `examples/1D-SLAM.ipynb`. Your first task is to code this from scratch.\n",
    "\n",
    "For this section, you have to calculate Jacobian analytically yourself and use it. However, you can check how correct it is using `jax`'s `jacobian`. Its usage is explained in the supplementary notebook (`examples/`)."
   ]
  },
  {
   "cell_type": "markdown",
   "id": "8917ee7d",
   "metadata": {},
   "source": [
    "### How to get started?\n",
    "\n",
    "1. Go through the example and understand the optimization procedure.\n",
    "2. Generate the data as in the example.\n",
    "3. Write the derivatives of the function with respect to the constraints\n",
    "4. Create the final jacobian and write the update steps using Gauss Newton\n",
    "\n",
    "This tiny example will help make sense of the next question, as it's largely just an extension of this."
   ]
  },
  {
   "cell_type": "markdown",
   "id": "7a6673a0",
   "metadata": {},
   "source": [
    "Finally, plot the loop closure constraint, poses, and error at every iteration as well. Since this is a one dimensional example, you can just assume x = y."
   ]
  },
  {
   "cell_type": "code",
   "execution_count": null,
   "id": "f69e9ef0",
   "metadata": {},
   "outputs": [],
   "source": [
    "import os\n",
    "import math\n",
    "import numpy as np\n",
    "import matplotlib.pyplot as plt"
   ]
  },
  {
   "cell_type": "code",
   "execution_count": null,
   "id": "1aa1b44e",
   "metadata": {},
   "outputs": [],
   "source": [
    "#test\n",
    "\n",
    "class posegraph:\n",
    "    def __init__(self):\n",
    "        self.J = None\n",
    "\n",
    "    def my_input(self):\n",
    "        self.J = []  \n",
    "        print(\"Enter the Jacobian matrix (6x5) as J:\")\n",
    "        for _ in range(6):\n",
    "            row = input(\"Enter the values in row-wise and give spaces between values: \")\n",
    "            self.J.append([float(val) for val in row.split()])\n",
    "        self.J = np.array(self.J)\n",
    "        print(\"Jacobian matrix values as J\\n\", self.J)\n",
    "\n",
    "    def delta_x(self, info_matrix, f_X0):\n",
    "        H = self.J.T @ info_matrix @ self.J\n",
    "        print(\"Sparse and adjacency matrix of factor graph representation of SLAM is determined as H = \\n\",H)\n",
    "        b =  self.J.T @ info_matrix.T @ f_X0\n",
    "        print(\"By gauss newton, H*delta_x=-b where b =\\n\",b)\n",
    "        det_H = np.linalg.det(H)\n",
    "        if det_H == 0:\n",
    "            return None\n",
    "        delta_x = np.linalg.solve(H, -self.J.T @ info_matrix @ f_X0)\n",
    "        return delta_x\n",
    "\n",
    "    def run(self):\n",
    "        self.my_input()\n",
    "        X0 = np.array([0, 1.1, 2.1, 3.2, 0.5])     # Values according to odometry\n",
    "        info_matrix = np.array([[100, 0, 0, 0, 0, 0],\n",
    "                          [0, 100, 0, 0, 0, 0],\n",
    "                          [0, 0, 100, 0, 0, 0],\n",
    "                          [0, 0, 0, 100, 0, 0],\n",
    "                          [0, 0, 0, 0, 100, 0],\n",
    "                          [0, 0, 0, 0, 0, 1000]])\n",
    "        f_X0 = np.array([0, 0, 0, 0, -0.5, 0])\n",
    "        f_X0 = np.transpose(f_X0)                  #f(X0) is the initialization of f(X)\n",
    "        delta_x = self.delta_x(info_matrix, f_X0)\n",
    "        if delta_x is not None:\n",
    "            Xi = X0 + delta_x\n",
    "            print(\"Values according to odometry is X0 =\\n\", X0)\n",
    "            print(\"delta_x =\\n\", delta_x)\n",
    "            print(\"Xi =\\n\", Xi)\n",
    "        else:\n",
    "            print(\"No unique solution found. Check the input matrix J.\")\n",
    "    \n",
    "\n",
    "if __name__ == \"__main__\":\n",
    "    SLAM_1D = posegraph()\n",
    "    SLAM_1D.run()\n"
   ]
  }
 ],
 "metadata": {
  "kernelspec": {
   "display_name": "Python 3 (ipykernel)",
   "language": "python",
   "name": "python3"
  },
  "language_info": {
   "codemirror_mode": {
    "name": "ipython",
    "version": 3
   },
   "file_extension": ".py",
   "mimetype": "text/x-python",
   "name": "python",
   "nbconvert_exporter": "python",
   "pygments_lexer": "ipython3",
   "version": "3.11.5"
  }
 },
 "nbformat": 4,
 "nbformat_minor": 5
}
