{
 "cells": [
  {
   "cell_type": "markdown",
   "metadata": {},
   "source": [
    "### Part 2:  Pose Graph Optimization for 2D SLAM"
   ]
  },
  {
   "cell_type": "markdown",
   "metadata": {},
   "source": [
    "### Objective\n",
    "A robot is travelling in a oval trajectory. It is equipped with wheel odometry for odometry information and RGBD sensors for loop closure information. Due to noise in wheel odometry it generates a noisy estimate of the trajectory. Our task is to use loop closure pairs to correct the drift.\n",
    "\n",
    "We pose this problem as a graph optimization problem. In our graph, poses are the vertices and constraints are the edges. "
   ]
  },
  {
   "cell_type": "markdown",
   "metadata": {},
   "source": [
    "### Given: \n",
    "In practical scenarios, we'd obtain the following from our sensors after some post-processing:\n",
    "\n",
    "1. Initial position\n",
    "2. Odometry Contraints/Edges: This \"edge\" information tells us relative transformation between two nodes. These two nodes are consecutive in the case of Odometry but not in the case of Loop Closure (next point).\n",
    "3. Loop Closure Contraints/Edges: Remember that while optimizing, you have another kind of \"anchor\" edge as you've seen in 1. solved example.\n",
    "\n",
    "You have been given a text file named `edges.txt` (in `data/`) which has all the above 3 and it follows G2O's format (as explained in class, [link here](https://saishubodh.notion.site/G2O-Edge-Types-d9f9ff63c77c4ceeb84b1e49085004e3) ). The ground truth is `gt.txt`."
   ]
  },
  {
   "cell_type": "code",
   "execution_count": 72,
   "id": "fbb16665",
   "metadata": {},
   "outputs": [
    {
     "name": "stdout",
     "output_type": "stream",
     "text": [
      "Requirement already satisfied: jax in /Users/anushka/anaconda3/lib/python3.10/site-packages (0.4.18)\n",
      "Requirement already satisfied: opt-einsum in /Users/anushka/anaconda3/lib/python3.10/site-packages (from jax) (3.3.0)\n",
      "Requirement already satisfied: scipy>=1.7 in /Users/anushka/anaconda3/lib/python3.10/site-packages (from jax) (1.11.1)\n",
      "Requirement already satisfied: numpy>=1.22 in /Users/anushka/anaconda3/lib/python3.10/site-packages (from jax) (1.24.3)\n",
      "Requirement already satisfied: ml-dtypes>=0.2.0 in /Users/anushka/anaconda3/lib/python3.10/site-packages (from jax) (0.3.1)\n",
      "Requirement already satisfied: jaxlib in /Users/anushka/anaconda3/lib/python3.10/site-packages (0.4.18)\n",
      "Requirement already satisfied: numpy>=1.22 in /Users/anushka/anaconda3/lib/python3.10/site-packages (from jaxlib) (1.24.3)\n",
      "Requirement already satisfied: ml-dtypes>=0.2.0 in /Users/anushka/anaconda3/lib/python3.10/site-packages (from jaxlib) (0.3.1)\n",
      "Requirement already satisfied: scipy>=1.7 in /Users/anushka/anaconda3/lib/python3.10/site-packages (from jaxlib) (1.11.1)\n"
     ]
    }
   ],
   "source": [
    "!pip install jax\n",
    "!pip install jaxlib"
   ]
  },
  {
   "cell_type": "code",
   "execution_count": 73,
   "id": "7c224087",
   "metadata": {},
   "outputs": [],
   "source": [
    "import numpy as np\n",
    "import matplotlib.pyplot as plt\n",
    "import math\n",
    "import jax.numpy as jnp\n",
    "import jax"
   ]
  },
  {
   "cell_type": "markdown",
   "metadata": {},
   "source": [
    "### Steps:\n",
    "\n",
    "### Part 1\n",
    "\n",
    "Using the following motion model, you have to first generate the \"initialization\" for all the poses/vertices using the \"Given\" information. Just like in the 1D case.\n",
    "$$x_{k+1} = x_{k} + \\Delta x_{(k,k+1)} \\cos(\\theta_k) - \\Delta y_{(k,k+1)} \\sin(\\theta_k) \\\\\n",
    "y_{k+1} = y_{k} + \\Delta y_{(k,k+1)} \\cos(\\theta_k) + \\Delta x_{(k,k+1)} \\sin(\\theta_k) \\\\\n",
    "\\theta_{k+1} = \\theta_{k}+  \\Delta \\theta_{(k,k+1)}$$\n",
    "\n",
    "Even the loop closure nodes are related by the above model, except that it need not necessarily be consecutive notes k and k+1.\n",
    "\n",
    "Save this initial trajectory as `edges-poses.g2o`.\n",
    "\n",
    "If you plot the initialized poses using odometry information, you need to get as the right plot below (this is the \"noisy trajectory\"): (Left one is the ground truth)\n",
    "![robot-poses-MR-P1.png](../misc/robot-poses-MR-P1.png)\n",
    "\n",
    "(Use `draw()` helper function or `g2o_viewer` or `EVO`)"
   ]
  },
  {
   "cell_type": "code",
   "execution_count": 74,
   "id": "e8aae36f",
   "metadata": {},
   "outputs": [],
   "source": [
    "def findVertfromEdge(vertices, edges, fix):\n",
    "    '''Finds vertices as estimated from the given edge data'''\n",
    " \n",
    "    # vertices = [(i, x, y, theta)], edges = [(i, j, x, y, theta, info)], fix = [idx]\n",
    "    for edge in edges:\n",
    "        if abs(edge[0] - edge[1]) > 1:\n",
    "            continue\n",
    "        v_prev = vertices[edge[0]]\n",
    "        x = v_prev[1] + edge[2] * np.cos(v_prev[3]) - edge[3] * np.sin(v_prev[3])\n",
    "        y = v_prev[2] + edge[3] * np.cos(v_prev[3]) + edge[2] * np.sin(v_prev[3])\n",
    "        theta = v_prev[3] + edge[4]\n",
    "        j = edge[1]\n",
    "        vertices[j] = np.array((j, x, y, theta))\n",
    "    \n",
    "    return vertices"
   ]
  },
  {
   "cell_type": "code",
   "execution_count": 75,
   "id": "69e74fa1",
   "metadata": {},
   "outputs": [],
   "source": [
    "def findEdgeVert(data):\n",
    "    '''Finds and returns all the edges and vertices obtained from the given data'''\n",
    "\n",
    "    # find number of vertices and edges\n",
    "    numv = 0\n",
    "    nume = 0\n",
    "    for elem in data:\n",
    "        if elem[0] == \"VERTEX_SE2\":\n",
    "            if int(elem[1])+1 > numv:\n",
    "                numv = int(elem[1])+1\n",
    "        elif elem[0] == \"EDGE_SE2\":\n",
    "            nume += 1\n",
    "            idx = max(int(elem[1])+1, int(elem[2])+1)\n",
    "            if idx > numv:\n",
    "                numv = idx\n",
    "\n",
    "    # initialising\n",
    "    vertices = []\n",
    "    for i in range(numv):\n",
    "        vertices.append(0)\n",
    "    \n",
    "    edges = []\n",
    "    for i in range(nume):\n",
    "        edges.append(0)\n",
    "    \n",
    "    fix = []\n",
    "    for i in range(numv):\n",
    "        fix.append(0)\n",
    "\n",
    "    idxe = 0\n",
    "    for elem in data:\n",
    "        if elem[0] == \"VERTEX_SE2\":\n",
    "            idx = int(elem[1])\n",
    "            vertices[idx] = [idx, float(elem[2]), float(elem[3]), float(elem[4])]\n",
    "        \n",
    "        elif elem[0] == \"EDGE_SE2\":\n",
    "            i = int(elem[1])\n",
    "            j = int(elem[2])\n",
    "            x = float(elem[3])\n",
    "            y = float(elem[4])\n",
    "            theta = float(elem[5])\n",
    "            i1 = float(elem[6])\n",
    "            i2= float(elem[7])\n",
    "            i3 = float(elem[8])\n",
    "            i4 = float(elem[9])\n",
    "            i5 = float(elem[10])\n",
    "            i6 = float(elem[11])\n",
    "            edges[idxe] = [i, j, x, y, theta, i1, i2, i3, i4, i5, i6]\n",
    "            idxe += 1\n",
    "\n",
    "        elif elem[0] == \"FIX\":\n",
    "            fix[int(elem[1])] = 1\n",
    "\n",
    "    # print(edges)\n",
    "    vertices = findVertfromEdge(vertices, edges, fix)\n",
    "    return vertices, edges\n"
   ]
  },
  {
   "cell_type": "code",
   "execution_count": 76,
   "id": "fc5a30cd",
   "metadata": {},
   "outputs": [],
   "source": [
    "def draw(X, Y, THETA):\n",
    "    ax = plt.subplot(111)\n",
    "    ax.plot(X, Y, 'ro')\n",
    "    plt.plot(X, Y, 'c-')\n",
    "\n",
    "    for i in range(len(THETA)):\n",
    "        x2 = 0.25*math.cos(THETA[i]) + X[i]\n",
    "        y2 = 0.25*math.sin(THETA[i]) + Y[i]\n",
    "        plt.plot([X[i], x2], [Y[i], y2], 'g->')\n",
    "\n",
    "    plt.show()"
   ]
  },
  {
   "cell_type": "code",
   "execution_count": 77,
   "id": "02215eb5",
   "metadata": {},
   "outputs": [],
   "source": [
    "def writeEdgestoPoses(poses, outfile, infile):\n",
    "    with open(outfile, \"w\") as f:\n",
    "        for i in range(poses.shape[0]):\n",
    "            idx = poses[i][0]\n",
    "            x = poses[i][1]\n",
    "            y = poses[i][2]\n",
    "            theta = poses[i][3]\n",
    "            vtx = \"VERTEX_SE2 \" + str(idx) + \" \" + str(x) + \" \" + str(y) + \" \" + str(theta) + \"\\n\"\n",
    "            f.write(\"%s\" % vtx)\n",
    "\n",
    "        with open(infile, \"r\") as f2:\n",
    "            lines = f2.readlines()\n",
    "            for line in lines:\n",
    "                if \"VERTEX_SE2\" not in line:\n",
    "                    f.write(\"%s\" % line)"
   ]
  },
  {
   "cell_type": "code",
   "execution_count": 78,
   "metadata": {},
   "outputs": [
    {
     "data": {
      "image/png": "[encoded data removed]",
      "text/plain": [
       "<Figure size 640x480 with 1 Axes>"
      ]
     },
     "metadata": {},
     "output_type": "display_data"
    }
   ],
   "source": [
    "with open(\"../data/edges.txt\") as f:\n",
    "    data = f.readlines()\n",
    "\n",
    "for i in range(len(data)):\n",
    "    data[i] = data[i].split()\n",
    "\n",
    "vertices, edges = findEdgeVert(data)\n",
    "poses = jnp.array(vertices)\n",
    "draw(poses[:, 1], poses[:, 2], poses[:, 3])\n",
    "writeEdgestoPoses(poses, \"edges-poses.g2o\", \"../data/edges.txt\")"
   ]
  },
  {
   "cell_type": "markdown",
   "metadata": {},
   "source": [
    "### Part 2\n",
    "\n",
    "Now calculate the residual and the Jacobian and update your parameters using LM.\n",
    "\n",
    "Use LM algorithm. Regarding Jacobian calculation, you can use `jax`'s `jacobian` as part of your main code. However, you still have to separately calculate it analytically and verify if it matches with `jax`'s `jacobian` using frobenius norm `frobNorm()`). Calculation and verification is compulsory, but it is your choice to use whichever as part of your optimization. Use whichever is faster. You can also visualise your Jacobian and see the structure of the matrix (just use `plt.imshow`).\n",
    "\n",
    "**Regarding LM iterations, stopping criterion, information matrix values.**\n",
    "\n",
    "1. As your iterations proceed, you have to print relevant information (iteration number and error value: [$F = \\frac{1}{2}  \\mathbf{f}^{\\top} \\mathbf{\\Omega} \\mathbf{f} $ (notes on non-linear LS)](https://saishubodh.notion.site/From-linear-algebra-to-non-linear-weighted-least-squares-optimization-13cf17d318be4d45bb8577c4d3ea4a02#32832dee7d6c4ab49581463d9b784f21) at every step).\n",
    "\n",
    "2. You have to show the plots (ground truth, noisy & optimized: all 3 in a single plot) at every 10 steps or so.\n",
    "\n",
    "3. You could start with information values of 500 for odom edges, 700 for loop closure edges, 1000 for anchor edge (same for all dimensions). However, you have to _heavily_ experiment with these values. (Given that you somehow know loop closure information is way more reliable than odometry.). At the end of your experimentation, your error $F = \\frac{1}{2}  \\mathbf{f}^{\\top} \\mathbf{\\Omega} \\mathbf{f} $ should by < 40. Explain your experimentation in detail using tables/plots etc if necessary.\n",
    "    \n",
    "Do not worry if you're not getting a perfect trajectory. Our parametrization was oversimplified for the sake of this assignment. With that being said, it is possible to get the error down to < 40 and make it at least look like an oval shaped trajectory, even if it doesn't perfectly resemble the ground truth. However, using `g2o` (seen later on), you will be getting a close to ground truth trajectory."
   ]
  },
  {
   "cell_type": "markdown",
   "metadata": {},
   "source": [
    "**Tip**\n",
    "\n",
    "Be sure to make your code modular and implement this in various stages. It will help you debug errors. Feel free to create helper functions in other files, just be sure to submit those as well. \n",
    "\n",
    "You are free to optimise your code using numba/Jax/torch if you wish, just ensure that you are not using any built in functions for any of the steps. It is only compulsory to verify your Jacobian using Jax."
   ]
  },
  {
   "cell_type": "code",
   "execution_count": null,
   "metadata": {},
   "outputs": [],
   "source": []
  },
  {
   "cell_type": "markdown",
   "metadata": {},
   "source": [
    "### Part 3\n",
    "\n",
    "- Write about the residuals you computed, its structure and shape. Also explain the structure of the Jacobian and its shape (Express the shape in terms of the number of vertices, loop constraints, and such, not exact numbers). \n",
    "- Write about the optimization process and any observations using intermediate plots and such. "
   ]
  },
  {
   "cell_type": "code",
   "execution_count": null,
   "metadata": {},
   "outputs": [],
   "source": []
  },
  {
   "cell_type": "markdown",
   "metadata": {},
   "source": [
    "### Part 4\n",
    "\n",
    "Write the final optimised trajectory as a g2o file. You can do this alongside any of the earlier parts."
   ]
  },
  {
   "cell_type": "code",
   "execution_count": null,
   "metadata": {},
   "outputs": [],
   "source": []
  }
 ],
 "metadata": {
  "kernelspec": {
   "display_name": "Python 3",
   "language": "python",
   "name": "python3"
  },
  "language_info": {
   "codemirror_mode": {
    "name": "ipython",
    "version": 3
   },
   "file_extension": ".py",
   "mimetype": "text/x-python",
   "name": "python",
   "nbconvert_exporter": "python",
   "pygments_lexer": "ipython3",
   "version": "3.10.11"
  }
 },
 "nbformat": 4,
 "nbformat_minor": 5
}
